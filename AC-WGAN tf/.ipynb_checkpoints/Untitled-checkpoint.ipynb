{
 "cells": [
  {
   "cell_type": "code",
   "execution_count": 1,
   "id": "193bc061",
   "metadata": {},
   "outputs": [
    {
     "name": "stdout",
     "output_type": "stream",
     "text": [
      "WARNING:tensorflow:From /home/ec2-user/anaconda3/envs/tensorflow_p36/gpu_cuda10.0/lib/python3.6/site-packages/tensorflow_core/__init__.py:1473: The name tf.estimator.inputs is deprecated. Please use tf.compat.v1.estimator.inputs instead.\n",
      "\n",
      "Uppercase local vars:\n",
      "\tBATCH_SIZE: 84\n",
      "\tCLASSES: 2\n",
      "\tCRITIC_ITERS: 5\n",
      "\tDIM: 64\n",
      "\tLAMBDA: 10\n",
      "\tMODE: acwgan\n",
      "\tN_GPUS: 1\n",
      "\tOUTPUT_DIM: 12288\n"
     ]
    }
   ],
   "source": [
    "import os, sys\n",
    "sys.path.append(os.getcwd())\n",
    "\n",
    "import tflib.save_images\n",
    "import tflib.wikiartGenre\n",
    "import tflib.plot\n",
    "import imageio\n",
    "from functools import reduce\n",
    "\n",
    "from GANgogh import *\n",
    "\n",
    "from tflib.wikiartGenre import get_style\n",
    "\n",
    "DEVICES = ['/gpu:{}'.format(i) for i in range(N_GPUS)]"
   ]
  },
  {
   "cell_type": "code",
   "execution_count": 2,
   "id": "ea28245d",
   "metadata": {},
   "outputs": [],
   "source": [
    "import tensorflow as tf"
   ]
  },
  {
   "cell_type": "code",
   "execution_count": 3,
   "id": "f086f5aa",
   "metadata": {},
   "outputs": [
    {
     "data": {
      "text/plain": [
       "'1.15.5'"
      ]
     },
     "execution_count": 3,
     "metadata": {},
     "output_type": "execute_result"
    }
   ],
   "source": [
    "tf.__version__"
   ]
  },
  {
   "cell_type": "code",
   "execution_count": 4,
   "id": "ca13c17a",
   "metadata": {},
   "outputs": [],
   "source": [
    "# pip install jupyterlab-nvdashboard"
   ]
  },
  {
   "cell_type": "code",
   "execution_count": 5,
   "id": "6b8a2757",
   "metadata": {},
   "outputs": [
    {
     "name": "stdout",
     "output_type": "stream",
     "text": [
      "# GPUs Available:  1\n"
     ]
    }
   ],
   "source": [
    "import tensorflow as tf\n",
    "print(\"# GPUs Available: \", len(tf.config.experimental.list_physical_devices('GPU')))"
   ]
  },
  {
   "cell_type": "code",
   "execution_count": null,
   "id": "65bb79e9",
   "metadata": {},
   "outputs": [],
   "source": [
    "# pip install nvidia-smi"
   ]
  },
  {
   "cell_type": "code",
   "execution_count": null,
   "id": "52ba0980",
   "metadata": {},
   "outputs": [],
   "source": [
    "# import nvidia-smi"
   ]
  },
  {
   "cell_type": "code",
   "execution_count": null,
   "id": "06406669",
   "metadata": {},
   "outputs": [],
   "source": [
    "tf.Session(config=tf.ConfigProto(log_device_placement=True))"
   ]
  },
  {
   "cell_type": "code",
   "execution_count": null,
   "id": "83687265",
   "metadata": {},
   "outputs": [],
   "source": [
    "conda list cudatoolkit"
   ]
  },
  {
   "cell_type": "code",
   "execution_count": null,
   "id": "f4203e0c",
   "metadata": {},
   "outputs": [],
   "source": [
    "conda list cudnn"
   ]
  },
  {
   "cell_type": "code",
   "execution_count": 7,
   "id": "36ba4239",
   "metadata": {},
   "outputs": [
    {
     "name": "stdout",
     "output_type": "stream",
     "text": [
      "{<tf.Tensor 'Placeholder_4:0' shape=(84, 3, 64, 64) dtype=int32>: array([[[[240, 245, 241, ..., 219, 216, 217],\n",
      "         [237, 236, 237, ..., 231, 224, 226],\n",
      "         [238, 239, 238, ..., 232, 230, 230],\n",
      "         ...,\n",
      "         [ 86,  86, 173, ..., 154, 166, 220],\n",
      "         [ 95, 102, 190, ..., 155, 143, 185],\n",
      "         [164, 115, 132, ..., 148, 163, 132]],\n",
      "\n",
      "        [[245, 250, 246, ..., 189, 185, 183],\n",
      "         [242, 243, 242, ..., 223, 212, 209],\n",
      "         [245, 246, 245, ..., 237, 230, 226],\n",
      "         ...,\n",
      "         [ 70,  73, 167, ..., 157, 167, 220],\n",
      "         [ 72,  86, 183, ..., 155, 139, 181],\n",
      "         [137,  98, 125, ..., 144, 155, 123]],\n",
      "\n",
      "        [[239, 246, 240, ..., 161, 157, 156],\n",
      "         [236, 236, 236, ..., 200, 188, 183],\n",
      "         [238, 239, 238, ..., 215, 206, 199],\n",
      "         ...,\n",
      "         [ 55,  56, 143, ..., 150, 159, 210],\n",
      "         [ 54,  70, 164, ..., 145, 128, 172],\n",
      "         [116,  82, 109, ..., 133, 144, 116]]],\n",
      "\n",
      "\n",
      "       [[[ 98, 145, 171, ..., 237, 245, 170],\n",
      "         [158, 106, 169, ..., 234, 192, 238],\n",
      "         [137,  75,  84, ..., 219, 237, 191],\n",
      "         ...,\n",
      "         [184, 189, 183, ..., 196, 203, 172],\n",
      "         [200, 185, 203, ..., 186, 156, 197],\n",
      "         [162, 174, 171, ..., 198, 181, 119]],\n",
      "\n",
      "        [[129, 175, 203, ..., 208, 218, 143],\n",
      "         [182, 133, 197, ..., 210, 167, 213],\n",
      "         [153,  97, 108, ..., 197, 214, 169],\n",
      "         ...,\n",
      "         [206, 209, 200, ..., 224, 227, 196],\n",
      "         [227, 207, 221, ..., 220, 188, 228],\n",
      "         [186, 198, 191, ..., 240, 223, 158]],\n",
      "\n",
      "        [[111, 163, 192, ..., 138, 147,  74],\n",
      "         [166, 114, 174, ..., 150, 103, 147],\n",
      "         [140,  74,  76, ..., 147, 160, 112],\n",
      "         ...,\n",
      "         [193, 200, 192, ..., 210, 213, 182],\n",
      "         [212, 194, 205, ..., 206, 173, 212],\n",
      "         [170, 176, 166, ..., 226, 209, 140]]],\n",
      "\n",
      "\n",
      "       [[[ 92,  87,  71, ...,  74,  82,  79],\n",
      "         [ 84,  66,  80, ...,  79,  80,  89],\n",
      "         [ 85,  79,  98, ...,  88,  94,  88],\n",
      "         ...,\n",
      "         [ 75,  77, 174, ...,  51,  53,  50],\n",
      "         [ 69,  61,  85, ...,  41,  47,  56],\n",
      "         [ 72,  56,  55, ...,  56,  61,  61]],\n",
      "\n",
      "        [[ 89,  85,  73, ...,  70,  78,  75],\n",
      "         [ 85,  67,  82, ...,  72,  74,  83],\n",
      "         [ 87,  81,  99, ...,  79,  86,  80],\n",
      "         ...,\n",
      "         [ 90,  67, 133, ...,  62,  64,  60],\n",
      "         [ 80,  66,  70, ...,  50,  57,  64],\n",
      "         [ 77,  70,  63, ...,  67,  71,  69]],\n",
      "\n",
      "        [[ 72,  70,  59, ...,  59,  67,  66],\n",
      "         [ 71,  53,  68, ...,  62,  62,  71],\n",
      "         [ 76,  68,  85, ...,  70,  75,  67],\n",
      "         ...,\n",
      "         [ 87,  42,  79, ...,  66,  66,  62],\n",
      "         [ 74,  59,  47, ...,  55,  59,  66],\n",
      "         [ 71,  73,  65, ...,  71,  73,  72]]],\n",
      "\n",
      "\n",
      "       ...,\n",
      "\n",
      "\n",
      "       [[[234, 229, 193, ..., 142,  62, 136],\n",
      "         [207, 203, 169, ...,  50,  86,  70],\n",
      "         [244, 205, 245, ...,  84,  66,  45],\n",
      "         ...,\n",
      "         [130, 119, 108, ..., 115,  70,  97],\n",
      "         [176, 149,  90, ...,  81,  96,  94],\n",
      "         [185, 142, 100, ...,  65, 128,  98]],\n",
      "\n",
      "        [[241, 214, 162, ..., 161,  76, 149],\n",
      "         [197, 178, 141, ...,  68, 106,  91],\n",
      "         [212, 174, 231, ..., 104,  91,  69],\n",
      "         ...,\n",
      "         [122, 111, 100, ..., 124,  85, 119],\n",
      "         [152, 136,  90, ...,  81, 103, 111],\n",
      "         [146, 123, 106, ...,  59, 130, 109]],\n",
      "\n",
      "        [[197, 157,  98, ..., 142,  63, 142],\n",
      "         [138, 122,  91, ...,  46,  97,  92],\n",
      "         [137, 119, 194, ...,  79,  87,  79],\n",
      "         ...,\n",
      "         [ 60,  49,  37, ...,  95,  56,  96],\n",
      "         [ 88,  81,  40, ...,  53,  70,  79],\n",
      "         [ 77,  67,  70, ...,  35,  93,  66]]],\n",
      "\n",
      "\n",
      "       [[[ 62,  67,  57, ...,  29,  39,  88],\n",
      "         [ 53,  38,  94, ...,  74,  91, 174],\n",
      "         [ 41,  38,  84, ..., 192,  73, 187],\n",
      "         ...,\n",
      "         [ 80, 168, 172, ..., 244, 236, 197],\n",
      "         [ 64,  37, 199, ..., 148, 207, 252],\n",
      "         [ 53,  45,  73, ..., 130, 124, 196]],\n",
      "\n",
      "        [[ 59,  71,  69, ...,  24,  49, 113],\n",
      "         [ 67,  55, 115, ...,  82, 100, 184],\n",
      "         [ 64,  61, 105, ..., 201,  76, 186],\n",
      "         ...,\n",
      "         [ 94, 178, 179, ..., 246, 234, 184],\n",
      "         [ 75,  47, 209, ..., 149, 207, 251],\n",
      "         [ 58,  54,  84, ..., 131, 124, 197]],\n",
      "\n",
      "        [[ 52,  57,  49, ...,   0,   0,  55],\n",
      "         [ 54,  45, 106, ...,  35,  47, 124],\n",
      "         [ 54,  53,  96, ..., 146,  21, 129],\n",
      "         ...,\n",
      "         [ 81, 153, 146, ..., 137, 125,  70],\n",
      "         [ 67,  22, 172, ...,  47,  93, 125],\n",
      "         [ 54,  33,  44, ...,  37,  10,  61]]],\n",
      "\n",
      "\n",
      "       [[[164, 171, 183, ..., 191, 169, 162],\n",
      "         [188, 190, 195, ..., 178, 171, 154],\n",
      "         [187, 191, 190, ..., 127, 148, 145],\n",
      "         ...,\n",
      "         [ 71,  45,  77, ..., 176, 103,  79],\n",
      "         [146, 105,  86, ..., 143, 101,  37],\n",
      "         [ 78,  97,  90, ...,  47,  42,  47]],\n",
      "\n",
      "        [[128, 136, 148, ..., 164, 142, 134],\n",
      "         [152, 154, 161, ..., 153, 143, 123],\n",
      "         [153, 157, 159, ..., 101, 119, 114],\n",
      "         ...,\n",
      "         [ 73,  47,  81, ..., 132,  58,  31],\n",
      "         [144, 106,  88, ..., 108,  68,   0],\n",
      "         [ 73,  95,  90, ...,  20,  18,  23]],\n",
      "\n",
      "        [[104, 108, 120, ..., 147, 121, 110],\n",
      "         [128, 128, 134, ..., 133, 122, 102],\n",
      "         [126, 132, 138, ...,  84, 101,  94],\n",
      "         ...,\n",
      "         [ 62,  34,  66, ...,  95,  29,  11],\n",
      "         [131,  90,  67, ...,  86,  53,   0],\n",
      "         [ 54,  74,  66, ...,  13,  16,  21]]]], dtype=int32)}\n"
     ]
    },
    {
     "ename": "ValueError",
     "evalue": "could not broadcast input array from shape (3,64,64) into shape (3,64,3)",
     "output_type": "error",
     "traceback": [
      "\u001b[0;31m---------------------------------------------------------------------------\u001b[0m",
      "\u001b[0;31mValueError\u001b[0m                                Traceback (most recent call last)",
      "\u001b[0;32m<ipython-input-7-d41dbeab7214>\u001b[0m in \u001b[0;36m<module>\u001b[0;34m\u001b[0m\n\u001b[1;32m    142\u001b[0m     \u001b[0m_x_r\u001b[0m \u001b[0;34m=\u001b[0m \u001b[0;34m(\u001b[0m\u001b[0;34m(\u001b[0m\u001b[0m_x_r\u001b[0m \u001b[0;34m+\u001b[0m \u001b[0;36m1.\u001b[0m\u001b[0;34m)\u001b[0m \u001b[0;34m*\u001b[0m \u001b[0;34m(\u001b[0m\u001b[0;36m255.99\u001b[0m \u001b[0;34m/\u001b[0m \u001b[0;36m2\u001b[0m\u001b[0;34m)\u001b[0m\u001b[0;34m)\u001b[0m\u001b[0;34m.\u001b[0m\u001b[0mastype\u001b[0m\u001b[0;34m(\u001b[0m\u001b[0;34m'int32'\u001b[0m\u001b[0;34m)\u001b[0m\u001b[0;34m\u001b[0m\u001b[0;34m\u001b[0m\u001b[0m\n\u001b[1;32m    143\u001b[0m \u001b[0;31m#     imageio.imwrite('generated/samples_groundtruth.png',_x_r)\u001b[0m\u001b[0;34m\u001b[0m\u001b[0;34m\u001b[0m\u001b[0;34m\u001b[0m\u001b[0m\n\u001b[0;32m--> 144\u001b[0;31m     \u001b[0mlib\u001b[0m\u001b[0;34m.\u001b[0m\u001b[0msave_images\u001b[0m\u001b[0;34m.\u001b[0m\u001b[0msave_images\u001b[0m\u001b[0;34m(\u001b[0m\u001b[0m_x_r\u001b[0m\u001b[0;34m.\u001b[0m\u001b[0mreshape\u001b[0m\u001b[0;34m(\u001b[0m\u001b[0;34m(\u001b[0m\u001b[0mBATCH_SIZE\u001b[0m\u001b[0;34m,\u001b[0m \u001b[0;36m3\u001b[0m\u001b[0;34m,\u001b[0m \u001b[0;36m64\u001b[0m\u001b[0;34m,\u001b[0m \u001b[0;36m64\u001b[0m\u001b[0;34m)\u001b[0m\u001b[0;34m)\u001b[0m\u001b[0;34m,\u001b[0m \u001b[0;34m'generated/samples_groundtruth.png'\u001b[0m\u001b[0;34m)\u001b[0m\u001b[0;34m\u001b[0m\u001b[0;34m\u001b[0m\u001b[0m\n\u001b[0m\u001b[1;32m    145\u001b[0m \u001b[0;31m#     imageio.imwrite('generated/samples_groundtruth.png',_x_r)\u001b[0m\u001b[0;34m\u001b[0m\u001b[0;34m\u001b[0m\u001b[0;34m\u001b[0m\u001b[0m\n\u001b[1;32m    146\u001b[0m \u001b[0;34m\u001b[0m\u001b[0m\n",
      "\u001b[0;32m~/SageMaker/Masters-thesis/AC-WGAN/tflib/save_images.py\u001b[0m in \u001b[0;36msave_images\u001b[0;34m(X, save_path)\u001b[0m\n\u001b[1;32m     38\u001b[0m         \u001b[0mj\u001b[0m \u001b[0;34m=\u001b[0m \u001b[0mn\u001b[0m \u001b[0;34m//\u001b[0m \u001b[0mnw\u001b[0m\u001b[0;34m\u001b[0m\u001b[0;34m\u001b[0m\u001b[0m\n\u001b[1;32m     39\u001b[0m         \u001b[0mi\u001b[0m \u001b[0;34m=\u001b[0m \u001b[0mn\u001b[0m \u001b[0;34m%\u001b[0m \u001b[0mnw\u001b[0m\u001b[0;34m\u001b[0m\u001b[0;34m\u001b[0m\u001b[0m\n\u001b[0;32m---> 40\u001b[0;31m         \u001b[0mimg\u001b[0m\u001b[0;34m[\u001b[0m\u001b[0mj\u001b[0m \u001b[0;34m*\u001b[0m \u001b[0mh\u001b[0m \u001b[0;34m:\u001b[0m \u001b[0mj\u001b[0m \u001b[0;34m*\u001b[0m \u001b[0mh\u001b[0m \u001b[0;34m+\u001b[0m \u001b[0mh\u001b[0m\u001b[0;34m,\u001b[0m \u001b[0mi\u001b[0m \u001b[0;34m*\u001b[0m \u001b[0mw\u001b[0m \u001b[0;34m:\u001b[0m \u001b[0mi\u001b[0m \u001b[0;34m*\u001b[0m \u001b[0mw\u001b[0m \u001b[0;34m+\u001b[0m \u001b[0mw\u001b[0m\u001b[0;34m]\u001b[0m \u001b[0;34m=\u001b[0m \u001b[0mx\u001b[0m\u001b[0;34m\u001b[0m\u001b[0;34m\u001b[0m\u001b[0m\n\u001b[0m\u001b[1;32m     41\u001b[0m \u001b[0;34m\u001b[0m\u001b[0m\n\u001b[1;32m     42\u001b[0m     \u001b[0mimg\u001b[0m \u001b[0;34m=\u001b[0m \u001b[0mImage\u001b[0m\u001b[0;34m.\u001b[0m\u001b[0mfromarray\u001b[0m\u001b[0;34m(\u001b[0m\u001b[0mimg\u001b[0m\u001b[0;34m,\u001b[0m \u001b[0;34m\"RGB\"\u001b[0m\u001b[0;34m)\u001b[0m\u001b[0;34m\u001b[0m\u001b[0;34m\u001b[0m\u001b[0m\n",
      "\u001b[0;31mValueError\u001b[0m: could not broadcast input array from shape (3,64,64) into shape (3,64,3)"
     ]
    }
   ],
   "source": [
    "ITERS = 2000 #200000  # How many iterations to train for\n",
    "PREITERATIONS = 20# 2000  # Number of preiteration training cycles to run\n",
    "\n",
    "\n",
    "Generator, Discriminator = GeneratorAndDiscriminator()\n",
    "\n",
    "with tf.Session(config=tf.ConfigProto(allow_soft_placement=True)) as session:\n",
    "    all_real_data_conv = tf.placeholder(tf.int32, shape=[BATCH_SIZE, 3, 64, 64])\n",
    "#     print(all_real_data_conv)\n",
    "    all_real_label_conv = tf.placeholder(tf.int32, shape=[BATCH_SIZE, CLASSES])\n",
    "\n",
    "    generated_labels_conv = tf.placeholder(tf.int32, shape=[BATCH_SIZE, CLASSES])\n",
    "    sample_labels_conv = tf.placeholder(tf.int32, shape=[BATCH_SIZE, CLASSES])\n",
    "\n",
    "    split_real_data_conv = tf.split(all_real_data_conv, len(DEVICES))\n",
    "    split_real_label_conv = tf.split(all_real_label_conv, len(DEVICES))\n",
    "    split_generated_labels_conv = tf.split(generated_labels_conv, len(DEVICES))\n",
    "    split_sample_labels_conv = tf.split(sample_labels_conv, len(DEVICES))\n",
    "\n",
    "    gen_costs, disc_costs = [], []\n",
    "\n",
    "    for device_index, (device, real_data_conv, real_label_conv) in enumerate(\n",
    "            zip(DEVICES, split_real_data_conv, split_real_label_conv)):\n",
    "\n",
    "        with tf.device(device):\n",
    "            real_data = tf.reshape(2 * ((tf.cast(real_data_conv, tf.float32) / 255.) - .5),\n",
    "                                   [BATCH_SIZE // len(DEVICES), OUTPUT_DIM])\n",
    "            real_labels = tf.reshape(real_label_conv, [BATCH_SIZE // len(DEVICES), CLASSES])\n",
    "\n",
    "            generated_labels = tf.reshape(split_generated_labels_conv, [BATCH_SIZE // len(DEVICES), CLASSES])\n",
    "            sample_labels = tf.reshape(split_sample_labels_conv, [BATCH_SIZE // len(DEVICES), CLASSES])\n",
    "\n",
    "            fake_data, fake_labels = Generator(BATCH_SIZE // len(DEVICES), CLASSES, generated_labels)\n",
    "\n",
    "            # set up discrimnator results\n",
    "\n",
    "            disc_fake, disc_fake_class = Discriminator(fake_data, CLASSES)\n",
    "            disc_real, disc_real_class = Discriminator(real_data, CLASSES)\n",
    "\n",
    "            prediction = tf.argmax(disc_fake_class, 1)\n",
    "            correct_answer = tf.argmax(fake_labels, 1)\n",
    "            equality = tf.equal(prediction, correct_answer)\n",
    "            genAccuracy = tf.reduce_mean(tf.cast(equality, tf.float32))\n",
    "\n",
    "            prediction = tf.argmax(disc_real_class, 1)\n",
    "            correct_answer = tf.argmax(real_labels, 1)\n",
    "            equality = tf.equal(prediction, correct_answer)\n",
    "            realAccuracy = tf.reduce_mean(tf.cast(equality, tf.float32))\n",
    "\n",
    "            gen_cost = -tf.reduce_mean(disc_fake)\n",
    "            disc_cost = tf.reduce_mean(disc_fake) - tf.reduce_mean(disc_real)\n",
    "\n",
    "            gen_cost_test = -tf.reduce_mean(disc_fake)\n",
    "            disc_cost_test = tf.reduce_mean(disc_fake) - tf.reduce_mean(disc_real)\n",
    "\n",
    "            generated_class_cost = tf.reduce_mean(tf.nn.softmax_cross_entropy_with_logits(logits=disc_fake_class,\n",
    "                                                                                          labels=fake_labels))\n",
    "\n",
    "            real_class_cost = tf.reduce_mean(tf.nn.softmax_cross_entropy_with_logits(logits=disc_real_class,\n",
    "                                                                                     labels=real_labels))\n",
    "            gen_cost += generated_class_cost\n",
    "            disc_cost += real_class_cost\n",
    "\n",
    "            alpha = tf.random_uniform(\n",
    "                shape=[BATCH_SIZE // len(DEVICES), 1],\n",
    "                minval=0.,\n",
    "                maxval=1.\n",
    "            )\n",
    "            differences = fake_data - real_data\n",
    "            interpolates = real_data + (alpha * differences)\n",
    "            gradients = tf.gradients(Discriminator(interpolates, CLASSES)[0], [interpolates])[0]\n",
    "            slopes = tf.sqrt(tf.reduce_sum(tf.square(gradients), reduction_indices=[1]))\n",
    "            gradient_penalty = tf.reduce_mean((slopes - 1.) ** 2)\n",
    "            disc_cost += LAMBDA * gradient_penalty\n",
    "\n",
    "            real_class_cost_gradient = real_class_cost * 50 + LAMBDA * gradient_penalty\n",
    "\n",
    "            gen_costs.append(gen_cost)\n",
    "            disc_costs.append(disc_cost)\n",
    "\n",
    "    gen_cost = tf.add_n(gen_costs) / len(DEVICES)\n",
    "    disc_cost = tf.add_n(disc_costs) / len(DEVICES)\n",
    "\n",
    "    gen_train_op = tf.train.AdamOptimizer(learning_rate=1e-4, beta1=0.5, beta2=0.9).minimize(gen_cost,\n",
    "                                                                                             var_list=lib.params_with_name(\n",
    "                                                                                                 'Generator'),\n",
    "                                                                                             colocate_gradients_with_ops=True)\n",
    "    disc_train_op = tf.train.AdamOptimizer(learning_rate=1e-4, beta1=0.5, beta2=0.9).minimize(disc_cost,\n",
    "                                                                                              var_list=lib.params_with_name(\n",
    "                                                                                                  'Discriminator.'),\n",
    "                                                                                              colocate_gradients_with_ops=True)\n",
    "    class_train_op = tf.train.AdamOptimizer(learning_rate=1e-4, beta1=0.5, beta2=0.9).minimize(real_class_cost_gradient,\n",
    "                                                                                               var_list=lib.params_with_name(\n",
    "                                                                                                   'Discriminator.'),\n",
    "                                                                                               colocate_gradients_with_ops=True)\n",
    "    # For generating samples\n",
    "\n",
    "    fixed_noise = tf.constant(np.random.normal(size=(BATCH_SIZE, 128)).astype('float32'))\n",
    "    all_fixed_noise_samples = []\n",
    "    for device_index, device in enumerate(DEVICES):\n",
    "        n_samples = BATCH_SIZE // len(DEVICES)\n",
    "        all_fixed_noise_samples.append(Generator(n_samples, CLASSES, sample_labels, noise=fixed_noise[\n",
    "                                                                                          device_index * n_samples:(\n",
    "                                                                                                                               device_index + 1) * n_samples])[\n",
    "                                           0])\n",
    "        if tf.__version__.startswith('1.'):\n",
    "            all_fixed_noise_samples = tf.concat(all_fixed_noise_samples, axis=0)\n",
    "        else:\n",
    "            all_fixed_noise_samples = tf.concat(0, all_fixed_noise_samples)\n",
    "\n",
    "\n",
    "    def generate_image(iteration):\n",
    "        for i in range(CLASSES):\n",
    "            curLabel = genRandomLabels(BATCH_SIZE, CLASSES, condition=i)\n",
    "            samples = session.run(all_fixed_noise_samples, feed_dict={sample_labels: curLabel})\n",
    "            samples = ((samples + 1.) * (255.99 / 2)).astype('int32')\n",
    "            save_images(samples.reshape((BATCH_SIZE, 3, 64, 64)),\n",
    "                                        'generated/samples_{}_{}.png'.format(get_style(i), iteration))\n",
    "\n",
    "\n",
    "    # Dataset iterator\n",
    "    train_gen, dev_gen = lib.wikiartGenre.load(BATCH_SIZE, CLASSES)\n",
    "\n",
    "\n",
    "    def softmax_cross_entropy(logit, y):\n",
    "        return -tf.reduce_mean(tf.nn.softmax_cross_entropy_with_logits(logits=logit, labels=y))\n",
    "\n",
    "\n",
    "    def inf_train_gen():\n",
    "        while True:\n",
    "            for (images, labels) in train_gen():\n",
    "                yield images, labels\n",
    "\n",
    "\n",
    "    _sample_labels = genRandomLabels(BATCH_SIZE, CLASSES)\n",
    "    # Save a batch of ground-truth samples\n",
    "    _x, _y = next(train_gen())\n",
    "#     print(_x, _y)\n",
    "    _x_r = session.run(real_data, feed_dict={all_real_data_conv: _x})\n",
    "    print({all_real_data_conv: _x})\n",
    "    \n",
    "    _x_r = ((_x_r + 1.) * (255.99 / 2)).astype('int32')\n",
    "#     imageio.imwrite('generated/samples_groundtruth.png',_x_r)\n",
    "    save_images(_x_r.reshape((BATCH_SIZE, 3, 64, 64)), 'generated/samples_groundtruth.png')\n",
    "#     imageio.imwrite('generated/samples_groundtruth.png',_x_r)\n",
    "\n",
    "    session.run(tf.initialize_all_variables(), feed_dict={generated_labels_conv: genRandomLabels(BATCH_SIZE, CLASSES)})\n",
    "    gen = train_gen()\n",
    "\n",
    "    for iterp in range(PREITERATIONS):\n",
    "        _data, _labels = next(gen)\n",
    "        _, accuracy = session.run([disc_train_op, realAccuracy],\n",
    "                                  feed_dict={all_real_data_conv: _data, all_real_label_conv: _labels,\n",
    "                                             generated_labels_conv: genRandomLabels(BATCH_SIZE, CLASSES)})\n",
    "        if iterp % 100 == 99:\n",
    "            print('pretraining accuracy: ' + str(accuracy))\n",
    "\n",
    "    for iteration in range(ITERS):\n",
    "        start_time = time.time()\n",
    "        # Train generator\n",
    "        if iteration > 0:\n",
    "            _ = session.run(gen_train_op, feed_dict={generated_labels_conv: genRandomLabels(BATCH_SIZE, CLASSES)})\n",
    "        # Train critic\n",
    "        disc_iters = CRITIC_ITERS\n",
    "        for i in range(disc_iters):\n",
    "            _data, _labels = next(gen)\n",
    "            _disc_cost, _disc_cost_test, class_cost_test, gen_class_cost, _gen_cost_test, _genAccuracy, _realAccuracy, _ = session.run(\n",
    "                [disc_cost, disc_cost_test, real_class_cost, generated_class_cost, gen_cost_test, genAccuracy,\n",
    "                 realAccuracy, disc_train_op], feed_dict={all_real_data_conv: _data, all_real_label_conv: _labels,\n",
    "                                                          generated_labels_conv: genRandomLabels(BATCH_SIZE, CLASSES)})\n",
    "\n",
    "        lib.plot.plot('train disc cost', _disc_cost)\n",
    "        lib.plot.plot('time', time.time() - start_time)\n",
    "        lib.plot.plot('wgan train disc cost', _disc_cost_test)\n",
    "        lib.plot.plot('train class cost', class_cost_test)\n",
    "        lib.plot.plot('generated class cost', gen_class_cost)\n",
    "        lib.plot.plot('gen cost cost', _gen_cost_test)\n",
    "        lib.plot.plot('gen accuracy', _genAccuracy)\n",
    "        lib.plot.plot('real accuracy', _realAccuracy)\n",
    "\n",
    "        if (iteration % 100 == 99 and iteration < 1000) or iteration % 1000 == 999:\n",
    "            t = time.time()\n",
    "            dev_disc_costs = []\n",
    "            images, labels = next(dev_gen())\n",
    "            _dev_disc_cost, _dev_disc_cost_test, _class_cost_test, _gen_class_cost, _dev_gen_cost_test, _dev_genAccuracy, _dev_realAccuracy = session.run(\n",
    "                [disc_cost, disc_cost_test, real_class_cost, generated_class_cost, gen_cost_test, genAccuracy,\n",
    "                 realAccuracy], feed_dict={all_real_data_conv: images, all_real_label_conv: labels,\n",
    "                                           generated_labels_conv: genRandomLabels(BATCH_SIZE, CLASSES)})\n",
    "            dev_disc_costs.append(_dev_disc_cost)\n",
    "            lib.plot.plot('dev disc cost', np.mean(dev_disc_costs))\n",
    "            lib.plot.plot('wgan dev disc cost', _dev_disc_cost_test)\n",
    "            lib.plot.plot('dev class cost', _class_cost_test)\n",
    "            lib.plot.plot('dev generated class cost', _gen_class_cost)\n",
    "            lib.plot.plot('dev gen  cost', _dev_gen_cost_test)\n",
    "            lib.plot.plot('dev gen accuracy', _dev_genAccuracy)\n",
    "            lib.plot.plot('dev real accuracy', _dev_realAccuracy)\n",
    "\n",
    "#            if iteration % 1000 == 999:\n",
    "        if iteration % 100 == 99:\n",
    "            generate_image(iteration)\n",
    "            # Can add generate_good_images method in here if desired\n",
    "\n",
    "        if (iteration < 10) or (iteration % 100 == 99):\n",
    "            lib.plot.flush()\n",
    "\n",
    "        lib.plot.tick()\n",
    "\n",
    "\n",
    "\n"
   ]
  },
  {
   "cell_type": "code",
   "execution_count": null,
   "id": "c8fec3eb",
   "metadata": {},
   "outputs": [],
   "source": [
    "def image_grid(x, size=1):\n",
    "    t = tf.unstack(x[:size * size], num=size*size, axis=0)\n",
    "#     print(t)\n",
    "    rows = [tf.concat(t[i*size:(i+1)*size], axis=0) \n",
    "            for i in range(size)]\n",
    "#     print(rows)\n",
    "    image = tf.concat(rows, axis=1)\n",
    "    print(image[None])\n",
    "    return image[None]"
   ]
  },
  {
   "cell_type": "code",
   "execution_count": 4,
   "id": "29c5d563",
   "metadata": {},
   "outputs": [],
   "source": [
    "def reshape_row(arr):\n",
    "    return reduce(lambda x, y: np.concatenate((x,y), axis=1), arr)\n",
    "\n",
    "def reshape_col(arr):\n",
    "    return reduce(lambda x, y: np.concatenate((x,y), axis=0), arr)\n",
    "\n",
    "def arbitrary_rows_cols(arr, num_rows, num_cols, gray=False):\n",
    "    num_images, height, width, depth, = arr.shape\n",
    "    rows = []\n",
    "    for i in range(num_rows):\n",
    "        row_image = arr[i*num_cols:i*num_cols+num_cols]\n",
    "        r_n, r_h, r_w, r_d = row_image.shape\n",
    "        if row_image.shape[0] != num_cols:\n",
    "            for _ in range(num_cols - row_image.shape[0]):\n",
    "                row_image = np.concatenate((row_image, np.expand_dims(np.zeros((height, width, depth)), axis=0)), axis=0)\n",
    "        row_image = reshape_row(row_image)\n",
    "        rows.append(row_image)\n",
    "    mosaic = reshape_col(rows)\n",
    "    return mosaic"
   ]
  },
  {
   "cell_type": "code",
   "execution_count": 8,
   "id": "53f7d093",
   "metadata": {},
   "outputs": [],
   "source": [
    "import numpy as np\n",
    "import scipy.misc\n",
    "# from scipy.misc import imsave\n",
    "\n",
    "def save_images(X, save_path):\n",
    "    # [0, 1] -> [0,255]\n",
    "    print('started')\n",
    "    if isinstance(X.flatten()[0], np.floating):\n",
    "        print(X)\n",
    "        X = (255.99*X).astype('uint8')\n",
    "        print(X)\n",
    "    print('dim: ',X.ndim)\n",
    "    n_samples = X.shape[0]\n",
    "    print('samples: ', n_samples)\n",
    "    rows = int(np.sqrt(n_samples))\n",
    "    print('rows: ', rows)\n",
    "    while n_samples % rows != 0:\n",
    "        print('1')\n",
    "        rows -= 1\n",
    "\n",
    "    nh, nw = rows, n_samples/rows\n",
    "    nh, nw = int(nh), int(nw)\n",
    "\n",
    "    if X.ndim == 2:\n",
    "        X = np.reshape(X, (X.shape[0], int(np.sqrt(X.shape[1])), int(np.sqrt(X.shape[1]))))\n",
    "\n",
    "    if X.ndim == 4:\n",
    "        # BCHW -> BHWC\n",
    "#         X = X.transpose(0,2,3,1)\n",
    "        print('X_new: ', X)\n",
    "#         h, w = X[0].shape[:2]\n",
    "        h, w = X[0].shape[:2]\n",
    "        print('h,w: ',  h,w)\n",
    "        img = np.zeros((h*nh, w*nw, 3))\n",
    "        print('img: ', img)\n",
    "    elif X.ndim == 3:\n",
    "        h, w = X[0].shape[:2]\n",
    "        img = np.zeros((h*nh, w*nw))\n",
    "\n",
    "    for n, x in enumerate(X):\n",
    "        j = int(n/nw)\n",
    "        i = int(n%nw)\n",
    "        img[j*h:j*h+h, i*w:i*w+w] = x\n",
    "\n",
    "#     imsave(save_path, img)\n",
    "    imageio.imwrite(save_path,img)"
   ]
  },
  {
   "cell_type": "code",
   "execution_count": 85,
   "id": "3ba2c7e6",
   "metadata": {},
   "outputs": [],
   "source": [
    "im = imageio.imread('/home/ec2-user/SageMaker/portrait_landscape/landscapes/0.png', pilmode='RGB')"
   ]
  },
  {
   "cell_type": "code",
   "execution_count": 86,
   "id": "53a66405",
   "metadata": {},
   "outputs": [],
   "source": [
    "im = im.reshape(1,64,64,3)"
   ]
  },
  {
   "cell_type": "code",
   "execution_count": 87,
   "id": "706a41fd",
   "metadata": {},
   "outputs": [],
   "source": [
    "# im.reshape(1, 3, 64, 64)"
   ]
  },
  {
   "cell_type": "code",
   "execution_count": 88,
   "id": "6d233c9a",
   "metadata": {},
   "outputs": [
    {
     "name": "stderr",
     "output_type": "stream",
     "text": [
      "Lossy conversion from float64 to uint8. Range [24.0, 250.0]. Convert image to uint8 prior to saving to suppress this warning.\n"
     ]
    },
    {
     "name": "stdout",
     "output_type": "stream",
     "text": [
      "started\n",
      "dim:  4\n",
      "samples:  1\n",
      "rows:  1\n",
      "X_new:  [[[[246 234 236]\n",
      "   [242 232 233]\n",
      "   [241 231 230]\n",
      "   ...\n",
      "   [240 228 228]\n",
      "   [242 230 230]\n",
      "   [241 230 228]]\n",
      "\n",
      "  [[231 219 219]\n",
      "   [227 217 216]\n",
      "   [228 218 217]\n",
      "   ...\n",
      "   [226 214 214]\n",
      "   [228 216 216]\n",
      "   [228 216 216]]\n",
      "\n",
      "  [[229 217 217]\n",
      "   [219 209 208]\n",
      "   [220 210 209]\n",
      "   ...\n",
      "   [226 214 214]\n",
      "   [224 212 212]\n",
      "   [225 213 213]]\n",
      "\n",
      "  ...\n",
      "\n",
      "  [[226 214 202]\n",
      "   [226 214 202]\n",
      "   [227 213 202]\n",
      "   ...\n",
      "   [233 216 206]\n",
      "   [229 215 204]\n",
      "   [225 211 200]]\n",
      "\n",
      "  [[229 215 204]\n",
      "   [229 215 204]\n",
      "   [230 216 205]\n",
      "   ...\n",
      "   [226 208 196]\n",
      "   [227 211 198]\n",
      "   [228 211 201]]\n",
      "\n",
      "  [[234 217 207]\n",
      "   [232 215 205]\n",
      "   [234 217 207]\n",
      "   ...\n",
      "   [233 215 203]\n",
      "   [235 217 205]\n",
      "   [232 216 203]]]]\n",
      "h,w:  64 64\n",
      "img:  [[[0. 0. 0.]\n",
      "  [0. 0. 0.]\n",
      "  [0. 0. 0.]\n",
      "  ...\n",
      "  [0. 0. 0.]\n",
      "  [0. 0. 0.]\n",
      "  [0. 0. 0.]]\n",
      "\n",
      " [[0. 0. 0.]\n",
      "  [0. 0. 0.]\n",
      "  [0. 0. 0.]\n",
      "  ...\n",
      "  [0. 0. 0.]\n",
      "  [0. 0. 0.]\n",
      "  [0. 0. 0.]]\n",
      "\n",
      " [[0. 0. 0.]\n",
      "  [0. 0. 0.]\n",
      "  [0. 0. 0.]\n",
      "  ...\n",
      "  [0. 0. 0.]\n",
      "  [0. 0. 0.]\n",
      "  [0. 0. 0.]]\n",
      "\n",
      " ...\n",
      "\n",
      " [[0. 0. 0.]\n",
      "  [0. 0. 0.]\n",
      "  [0. 0. 0.]\n",
      "  ...\n",
      "  [0. 0. 0.]\n",
      "  [0. 0. 0.]\n",
      "  [0. 0. 0.]]\n",
      "\n",
      " [[0. 0. 0.]\n",
      "  [0. 0. 0.]\n",
      "  [0. 0. 0.]\n",
      "  ...\n",
      "  [0. 0. 0.]\n",
      "  [0. 0. 0.]\n",
      "  [0. 0. 0.]]\n",
      "\n",
      " [[0. 0. 0.]\n",
      "  [0. 0. 0.]\n",
      "  [0. 0. 0.]\n",
      "  ...\n",
      "  [0. 0. 0.]\n",
      "  [0. 0. 0.]\n",
      "  [0. 0. 0.]]]\n"
     ]
    }
   ],
   "source": [
    "save_images(im, 'generated/samples_groundtruth.png')"
   ]
  },
  {
   "cell_type": "code",
   "execution_count": null,
   "id": "6fc0e5d7",
   "metadata": {},
   "outputs": [],
   "source": [
    "# im = ((im + 1.) * (255.99 / 2)).astype('int32')"
   ]
  },
  {
   "cell_type": "code",
   "execution_count": 29,
   "id": "8e89d23b",
   "metadata": {},
   "outputs": [
    {
     "ename": "NameError",
     "evalue": "name 'image_grid' is not defined",
     "output_type": "error",
     "traceback": [
      "\u001b[0;31m---------------------------------------------------------------------------\u001b[0m",
      "\u001b[0;31mNameError\u001b[0m                                 Traceback (most recent call last)",
      "\u001b[0;32m<ipython-input-29-cf3beafac394>\u001b[0m in \u001b[0;36m<module>\u001b[0;34m\u001b[0m\n\u001b[0;32m----> 1\u001b[0;31m \u001b[0mim\u001b[0m \u001b[0;34m=\u001b[0m \u001b[0mimage_grid\u001b[0m\u001b[0;34m(\u001b[0m\u001b[0mim\u001b[0m\u001b[0;34m.\u001b[0m\u001b[0mreshape\u001b[0m\u001b[0;34m(\u001b[0m\u001b[0;36m1\u001b[0m\u001b[0;34m,\u001b[0m\u001b[0;36m64\u001b[0m\u001b[0;34m,\u001b[0m\u001b[0;36m64\u001b[0m\u001b[0;34m,\u001b[0m\u001b[0;36m3\u001b[0m\u001b[0;34m)\u001b[0m\u001b[0;34m)\u001b[0m\u001b[0;34m\u001b[0m\u001b[0;34m\u001b[0m\u001b[0m\n\u001b[0m",
      "\u001b[0;31mNameError\u001b[0m: name 'image_grid' is not defined"
     ]
    }
   ],
   "source": [
    "im = image_grid(im.reshape(1,64,64,3))"
   ]
  },
  {
   "cell_type": "code",
   "execution_count": null,
   "id": "8c801060",
   "metadata": {},
   "outputs": [],
   "source": [
    "im = tf.Session().run(im)"
   ]
  },
  {
   "cell_type": "code",
   "execution_count": null,
   "id": "62f15c98",
   "metadata": {},
   "outputs": [],
   "source": [
    "from functools import reduce"
   ]
  },
  {
   "cell_type": "code",
   "execution_count": null,
   "id": "2bf1a6f3",
   "metadata": {},
   "outputs": [],
   "source": [
    "im = arbitrary_rows_cols(im, 1, 1, gray=False)\n",
    "imageio.imwrite('generated/samples_groundtruth.png',im)"
   ]
  },
  {
   "cell_type": "code",
   "execution_count": null,
   "id": "d3d412a6",
   "metadata": {},
   "outputs": [],
   "source": [
    "im = tf.Session().run(im)"
   ]
  },
  {
   "cell_type": "code",
   "execution_count": null,
   "id": "dee71094",
   "metadata": {},
   "outputs": [],
   "source": [
    "im.shape"
   ]
  },
  {
   "cell_type": "code",
   "execution_count": null,
   "id": "1237b484",
   "metadata": {},
   "outputs": [],
   "source": [
    "imageio.imwrite('generated/samples_groundtruth.png',im)"
   ]
  },
  {
   "cell_type": "code",
   "execution_count": null,
   "id": "389721b9",
   "metadata": {},
   "outputs": [],
   "source": [
    "isinstance(0, np.floating)"
   ]
  },
  {
   "cell_type": "code",
   "execution_count": null,
   "id": "3e56436c",
   "metadata": {},
   "outputs": [],
   "source": [
    "X = im.reshape(1, 3, 64, 64)\n",
    "# X = im\n",
    "# X = (255.99*X).astype('uint8')\n",
    "n_samples = X.shape[0]\n",
    "rows = int(np.sqrt(n_samples))\n",
    "nh, nw = rows, n_samples/rows\n",
    "nh = int(nh)\n",
    "nw = int(nw)"
   ]
  },
  {
   "cell_type": "code",
   "execution_count": null,
   "id": "ac1bb434",
   "metadata": {},
   "outputs": [],
   "source": [
    "nh, nw "
   ]
  },
  {
   "cell_type": "code",
   "execution_count": null,
   "id": "1731ddb4",
   "metadata": {},
   "outputs": [],
   "source": [
    "X = X.transpose(0,2,3,1)"
   ]
  },
  {
   "cell_type": "code",
   "execution_count": null,
   "id": "c0b283c7",
   "metadata": {},
   "outputs": [],
   "source": [
    "h, w = X[0].shape[:2]"
   ]
  },
  {
   "cell_type": "code",
   "execution_count": null,
   "id": "749484b0",
   "metadata": {},
   "outputs": [],
   "source": [
    "img = np.zeros((h*nh, w*nw, 3))"
   ]
  },
  {
   "cell_type": "code",
   "execution_count": null,
   "id": "6f0323cd",
   "metadata": {},
   "outputs": [],
   "source": [
    "for n, x in enumerate(X):\n",
    "    j = int(n/nw)\n",
    "    i = int(n%nw)\n",
    "    print(j*h,j*h+h, i*w,i*w+w)\n",
    "    img[j*h:j*h+h, i*w:i*w+w] = x\n",
    "#     print(img[j*h:j*h+h, i*w:i*w+w])"
   ]
  },
  {
   "cell_type": "code",
   "execution_count": null,
   "id": "0f643246",
   "metadata": {},
   "outputs": [],
   "source": [
    "import tensorflow.compat.v1 as tf\n",
    "tf.disable_v2_behavior()"
   ]
  },
  {
   "cell_type": "code",
   "execution_count": null,
   "id": "dded88d4",
   "metadata": {},
   "outputs": [],
   "source": [
    "# tf.contrib.gan.eval.image_grid(\n",
    "#     im.reshape((1, 3, 64, 64)),\n",
    "#     grid_shape,\n",
    "#     image_shape=(64, 64),\n",
    "#     num_channels=3\n",
    "# )"
   ]
  },
  {
   "cell_type": "code",
   "execution_count": null,
   "id": "70b59f2b",
   "metadata": {},
   "outputs": [],
   "source": [
    "img = img.astype(np.uint8)"
   ]
  },
  {
   "cell_type": "code",
   "execution_count": null,
   "id": "ad56b799",
   "metadata": {},
   "outputs": [],
   "source": [
    "imageio.imwrite('generated/samples_groundtruth.png',img)"
   ]
  },
  {
   "cell_type": "code",
   "execution_count": null,
   "id": "3838ffda",
   "metadata": {},
   "outputs": [],
   "source": [
    "save_images(im.reshape((1, 3, 64, 64)), 'generated/samples_groundtruth.png')"
   ]
  },
  {
   "cell_type": "code",
   "execution_count": null,
   "id": "0604639f",
   "metadata": {},
   "outputs": [],
   "source": [
    "im = ((im + 1.) * (255.99 / 2)).astype('int32')"
   ]
  },
  {
   "cell_type": "code",
   "execution_count": null,
   "id": "5d97f827",
   "metadata": {},
   "outputs": [],
   "source": [
    "imageio.imwrite('generated/samples_groundtruth.png',im)"
   ]
  },
  {
   "cell_type": "code",
   "execution_count": null,
   "id": "93ac64e0",
   "metadata": {},
   "outputs": [],
   "source": []
  },
  {
   "cell_type": "code",
   "execution_count": null,
   "id": "ada64648",
   "metadata": {},
   "outputs": [],
   "source": [
    "import tensorflow as tf\n",
    "tf.__version__"
   ]
  },
  {
   "cell_type": "code",
   "execution_count": null,
   "id": "10f65a26",
   "metadata": {},
   "outputs": [],
   "source": [
    "# im = Image.open('/home/ec2-user/SageMaker/portrait_landscape/landscapes/0.png', mode='r')"
   ]
  },
  {
   "cell_type": "code",
   "execution_count": null,
   "id": "a2fc2e4f",
   "metadata": {},
   "outputs": [],
   "source": [
    "%pylab inline\n",
    "import matplotlib.pyplot as plt\n",
    "import matplotlib.image as mpimg\n",
    "img = mpimg.imread('/home/ec2-user/SageMaker/portrait_landscape/landscapes/0.png')\n",
    "imgplot = plt.imshow(im)\n",
    "plt.savefig('foo.png')\n",
    "plt.show()\n"
   ]
  },
  {
   "cell_type": "code",
   "execution_count": null,
   "id": "bfd8b040",
   "metadata": {},
   "outputs": [],
   "source": [
    "im.save.im.reshape((1, 3, 64, 64), 'generated/samples_groundtruth.png')"
   ]
  },
  {
   "cell_type": "code",
   "execution_count": null,
   "id": "27070003",
   "metadata": {},
   "outputs": [],
   "source": [
    "train_gen, dev_gen = lib.wikiartGenre.load(BATCH_SIZE, CLASSES)"
   ]
  },
  {
   "cell_type": "code",
   "execution_count": null,
   "id": "cc0dd4ba",
   "metadata": {},
   "outputs": [],
   "source": [
    "import os, sys\n",
    "sys.path.append(os.getcwd())\n",
    "\n",
    "import tflib.save_images\n",
    "import tflib.wikiartGenre\n",
    "import tflib.plot\n",
    "import imageio\n",
    "\n",
    "from GANgogh import *\n",
    "\n",
    "from tflib.wikiartGenre import get_style\n",
    "\n",
    "DEVICES = ['/gpu:{}'.format(i) for i in range(N_GPUS)]\n",
    "\n",
    "ITERS = 2000 #200000  # How many iterations to train for\n",
    "PREITERATIONS = 20# 2000  # Number of preiteration training cycles to run\n",
    "\n",
    "\n",
    "Generator, Discriminator = GeneratorAndDiscriminator()\n",
    "\n",
    "with tf.Session(config=tf.ConfigProto(allow_soft_placement=True)) as session:\n",
    "    all_real_data_conv = tf.placeholder(tf.int32, shape=[BATCH_SIZE, 3, 64, 64])\n",
    "    all_real_label_conv = tf.placeholder(tf.int32, shape=[BATCH_SIZE, CLASSES])\n",
    "\n",
    "    generated_labels_conv = tf.placeholder(tf.int32, shape=[BATCH_SIZE, CLASSES])\n",
    "    sample_labels_conv = tf.placeholder(tf.int32, shape=[BATCH_SIZE, CLASSES])\n",
    "\n",
    "    split_real_data_conv = tf.split(all_real_data_conv, len(DEVICES))\n",
    "    split_real_label_conv = tf.split(all_real_label_conv, len(DEVICES))\n",
    "    split_generated_labels_conv = tf.split(generated_labels_conv, len(DEVICES))\n",
    "    split_sample_labels_conv = tf.split(sample_labels_conv, len(DEVICES))\n",
    "\n",
    "    gen_costs, disc_costs = [], []\n",
    "\n",
    "    for device_index, (device, real_data_conv, real_label_conv) in enumerate(\n",
    "            zip(DEVICES, split_real_data_conv, split_real_label_conv)):\n",
    "\n",
    "        with tf.device(device):\n",
    "            real_data = tf.reshape(2 * ((tf.cast(real_data_conv, tf.float32) / 255.) - .5),\n",
    "                                   [BATCH_SIZE // len(DEVICES), OUTPUT_DIM])\n",
    "            print(real_data)\n",
    "            _x, _y = next(train_gen())\n",
    "            _x_r = session.run(real_data, feed_dict={all_real_data_conv: _x})\n",
    "            _x_r = ((_x_r + 1.) * (255.99 / 2)).astype('int32')\n",
    "            lib.save_images.save_images(_x_r.reshape((BATCH_SIZE, 3, 64, 64)), 'generated/samples_groundtruth.png')"
   ]
  },
  {
   "cell_type": "code",
   "execution_count": null,
   "id": "3cd1ff7f",
   "metadata": {},
   "outputs": [],
   "source": [
    "tf.test.gpu_device_name()"
   ]
  },
  {
   "cell_type": "code",
   "execution_count": null,
   "id": "2680d74b",
   "metadata": {},
   "outputs": [],
   "source": [
    "_x, _y = next(train_gen())\n",
    "_x_r = session.run(real_data, feed_dict={all_real_data_conv: _x})\n",
    "_x_r = ((_x_r + 1.) * (255.99 / 2)).astype('int32')\n",
    "lib.save_images.save_images(_x_r.reshape((BATCH_SIZE, 3, 64, 64)), 'generated/samples_groundtruth.png')"
   ]
  },
  {
   "cell_type": "code",
   "execution_count": null,
   "id": "67c9bbe8",
   "metadata": {},
   "outputs": [],
   "source": []
  },
  {
   "cell_type": "code",
   "execution_count": null,
   "id": "d491faf6",
   "metadata": {},
   "outputs": [],
   "source": [
    "# pip install -r requirements.txt"
   ]
  },
  {
   "cell_type": "code",
   "execution_count": null,
   "id": "d8b95073",
   "metadata": {},
   "outputs": [],
   "source": [
    "pip freeze | grep tensorflow"
   ]
  },
  {
   "cell_type": "code",
   "execution_count": null,
   "id": "fcab6399",
   "metadata": {},
   "outputs": [],
   "source": [
    "pip uninstall tensorflow"
   ]
  },
  {
   "cell_type": "code",
   "execution_count": null,
   "id": "7eb8a49c",
   "metadata": {},
   "outputs": [],
   "source": [
    "pip install tensorflow==1.15"
   ]
  },
  {
   "cell_type": "code",
   "execution_count": null,
   "id": "c69cc74a",
   "metadata": {},
   "outputs": [],
   "source": [
    "import tensorflow as tf"
   ]
  },
  {
   "cell_type": "code",
   "execution_count": null,
   "id": "e7bc6204",
   "metadata": {},
   "outputs": [],
   "source": [
    "tf.test.gpu_device_name()"
   ]
  },
  {
   "cell_type": "code",
   "execution_count": null,
   "id": "dc77b546",
   "metadata": {},
   "outputs": [],
   "source": [
    "tf.__version__"
   ]
  },
  {
   "cell_type": "code",
   "execution_count": null,
   "id": "fcff36f6",
   "metadata": {},
   "outputs": [],
   "source": []
  }
 ],
 "metadata": {
  "kernelspec": {
   "display_name": "conda_tensorflow_p36",
   "language": "python",
   "name": "conda_tensorflow_p36"
  },
  "language_info": {
   "codemirror_mode": {
    "name": "ipython",
    "version": 3
   },
   "file_extension": ".py",
   "mimetype": "text/x-python",
   "name": "python",
   "nbconvert_exporter": "python",
   "pygments_lexer": "ipython3",
   "version": "3.6.13"
  }
 },
 "nbformat": 4,
 "nbformat_minor": 5
}
