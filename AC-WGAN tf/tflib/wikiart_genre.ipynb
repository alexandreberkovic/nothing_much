{
 "cells": [
  {
   "cell_type": "code",
   "execution_count": 1,
   "id": "1b0cd828",
   "metadata": {},
   "outputs": [
    {
     "data": {
      "text/plain": [
       "' Creates batches of images to feed into the training network conditioned by genre, uses upsampling when creating batches to account for uneven distributions '"
      ]
     },
     "execution_count": 1,
     "metadata": {},
     "output_type": "execute_result"
    }
   ],
   "source": [
    "\"\"\" Creates batches of images to feed into the training network conditioned by genre, uses upsampling when creating batches to account for uneven distributions \"\"\""
   ]
  },
  {
   "cell_type": "code",
   "execution_count": 2,
   "id": "404041b6",
   "metadata": {},
   "outputs": [],
   "source": [
    "import numpy as np\n",
    "import imageio\n",
    "import time\n",
    "import random\n",
    "import os\n",
    "from pathlib import Path\n",
    "from PIL import Image"
   ]
  },
  {
   "cell_type": "code",
   "execution_count": 3,
   "id": "0f061be8",
   "metadata": {},
   "outputs": [],
   "source": [
    "import sys\n",
    "# sys.path.append(os.path.dirname(os.path.dirname(os.path.abspath(__file__))))\n",
    "# import settings\n",
    "\n",
    "# Set the dimension of images you want to be passed in to the network\n",
    "DIM = 64"
   ]
  },
  {
   "cell_type": "code",
   "execution_count": 4,
   "id": "7786675f",
   "metadata": {},
   "outputs": [],
   "source": [
    "# Set your own path to images\n",
    "# src_img_path = os.path.normpath(settings.RESIZED_IMAGES_PATH)\n",
    "src_img_path  = Path('/home/ec2-user/SageMaker/wikiart-portrait')"
   ]
  },
  {
   "cell_type": "code",
   "execution_count": 28,
   "id": "9c8acde3",
   "metadata": {},
   "outputs": [],
   "source": [
    "# This dictionary should be updated to hold the absolute number of images associated with each genre used during training\n",
    "styles = {\n",
    "    \"portraits\": 14980,\n",
    "    \"abstract\": 0,\n",
    "    \"landscape\": 0\n",
    "}\n",
    "\n",
    "styleNum = {\n",
    "    \"portraits\": 0,\n",
    "    \"abstract\": 1,\n",
    "    \"landscape\": 2\n",
    "}\n",
    "\n",
    "curPos = {\n",
    "    \"portraits\": 0,\n",
    "    \"abstract\": 0,\n",
    "    \"landscape\": 0\n",
    "}"
   ]
  },
  {
   "cell_type": "code",
   "execution_count": 10,
   "id": "8efd3a5d",
   "metadata": {},
   "outputs": [],
   "source": [
    "# # This dictionary should be updated to hold the absolute number of images associated with each genre used during training\n",
    "# styles = {\n",
    "#     \"portraits\": 14981\n",
    "# }\n",
    "\n",
    "# styleNum = {\n",
    "#     \"portraits\": 0\n",
    "# }\n",
    "\n",
    "# curPos = {\n",
    "#     \"portraits\": 0\n",
    "# }"
   ]
  },
  {
   "cell_type": "code",
   "execution_count": 11,
   "id": "2e2b6c49",
   "metadata": {},
   "outputs": [],
   "source": [
    "testNums = {}\n",
    "trainNums = {} "
   ]
  },
  {
   "cell_type": "code",
   "execution_count": 14,
   "id": "510d2abe",
   "metadata": {},
   "outputs": [
    {
     "name": "stdout",
     "output_type": "stream",
     "text": [
      "range(0, 749)\n",
      "range(0, 0)\n",
      "range(0, 0)\n"
     ]
    }
   ],
   "source": [
    "# Generate test set of images made up of 1/20 of the images (per genre)\n",
    "for k, v in styles.items():\n",
    "#     print(k,v)\n",
    "    # put a twentieth of paintings in here\n",
    "    nums = range(v)\n",
    "    random.shuffle(list(nums))\n",
    "    testNums[k] = nums[0 : v // 20]\n",
    "    trainNums[k] = nums[v // 20 :]\n",
    "    print(testNums[k])"
   ]
  },
  {
   "cell_type": "code",
   "execution_count": null,
   "id": "849cbb52",
   "metadata": {},
   "outputs": [],
   "source": []
  },
  {
   "cell_type": "code",
   "execution_count": 32,
   "id": "413d6b05",
   "metadata": {},
   "outputs": [],
   "source": [
    "def inf_gen(gen):\n",
    "    while True:\n",
    "        for (images, labels) in gen():\n",
    "            yield images, labels"
   ]
  },
  {
   "cell_type": "code",
   "execution_count": 59,
   "id": "3b3cb027",
   "metadata": {},
   "outputs": [],
   "source": [
    "def make_generator(files, batch_size, n_classes):\n",
    "    if batch_size % n_classes != 0:\n",
    "        raise ValueError(\n",
    "            \"Batch size {} must be divisible by num classes {}\".format(batch_size, n_classes)\n",
    "        )\n",
    "\n",
    "    class_batch = batch_size // n_classes\n",
    "\n",
    "    generators = []\n",
    "\n",
    "    def get_epoch():\n",
    "\n",
    "        while True:\n",
    "\n",
    "            images = np.zeros((batch_size, 3, DIM, DIM), dtype=\"int32\")\n",
    "            labels = np.zeros((batch_size, n_classes))\n",
    "            n = 0\n",
    "            for style in styles:\n",
    "#                 print('omg')\n",
    "                styleLabel = styleNum[style]\n",
    "                curr = curPos[style]\n",
    "                for _ in range(class_batch):\n",
    "                    if curr == styles[style]:\n",
    "                        curr = 0\n",
    "                        random.shuffle(list(files[style]))\n",
    "\n",
    "#                     img_path = Path(src_img_path, style, str(curr) + \".png\")\n",
    "#                     print(styleLabel, str(curr), 'yo')\n",
    "                    img_path = str(Path(src_img_path, str(styleLabel), str(curr) + \".jpg\"))\n",
    "                    print(img_path)\n",
    "                    image = Image.open(img_path).convert(mode=\"RGB\")\n",
    "                    image = np.asarray(image)\n",
    "\n",
    "                    images[n % batch_size] = image.transpose(2, 0, 1)\n",
    "                    labels[n % batch_size, int(styleLabel)] = 1\n",
    "                    n += 1\n",
    "                    curr += 1\n",
    "                curPos[style] = curr\n",
    "\n",
    "            # randomize things but keep relationship between a conditioning vector and its associated image\n",
    "            rng_state = np.random.get_state()\n",
    "            np.random.shuffle(images)\n",
    "            np.random.set_state(rng_state)\n",
    "            np.random.shuffle(labels)\n",
    "            yield (images, labels)\n",
    "\n",
    "    return get_epoch"
   ]
  },
  {
   "cell_type": "code",
   "execution_count": 15,
   "id": "8397dea2",
   "metadata": {},
   "outputs": [],
   "source": [
    "def make_generator(files, batch_size, n_classes, genre):\n",
    "    if batch_size % n_classes != 0:\n",
    "        raise ValueError(\n",
    "            \"Batch size {} must be divisible by num classes {}\".format(batch_size, n_classes)\n",
    "        )\n",
    "\n",
    "    class_batch = batch_size // n_classes\n",
    "\n",
    "    generators = []\n",
    "\n",
    "    def get_epoch():\n",
    "\n",
    "        while True:\n",
    "\n",
    "            images = np.zeros((batch_size, 3, DIM, DIM), dtype=\"int32\")\n",
    "            labels = np.zeros((batch_size, n_classes))\n",
    "            n = 0\n",
    "            for style in genre:\n",
    "#                 print('omg')\n",
    "                styleLabel = styleNum[style]\n",
    "                curr = curPos[style]\n",
    "                for _ in range(class_batch):\n",
    "                    if curr == styles[style]:\n",
    "                        curr = 0\n",
    "                        random.shuffle(list(files[style]))\n",
    "\n",
    "#                     img_path = Path(src_img_path, style, str(curr) + \".png\")\n",
    "#                     print(styleLabel, str(curr), 'yo')\n",
    "                    img_path = str(Path(src_img_path, str(styleLabel), str(curr) + \".jpg\"))\n",
    "                    print(img_path)\n",
    "                    image = Image.open(img_path).convert(mode=\"RGB\")\n",
    "                    image = np.asarray(image)\n",
    "\n",
    "                    images[n % batch_size] = image.transpose(2, 0, 1)\n",
    "                    labels[n % batch_size, int(styleLabel)] = 1\n",
    "                    n += 1\n",
    "                    curr += 1\n",
    "                curPos[style] = curr\n",
    "\n",
    "            # randomize things but keep relationship between a conditioning vector and its associated image\n",
    "            rng_state = np.random.get_state()\n",
    "            np.random.shuffle(images)\n",
    "            np.random.set_state(rng_state)\n",
    "            np.random.shuffle(labels)\n",
    "            yield (images, labels)\n",
    "\n",
    "    return get_epoch"
   ]
  },
  {
   "cell_type": "code",
   "execution_count": 21,
   "id": "9627d51b",
   "metadata": {},
   "outputs": [],
   "source": [
    "genre = ['portraits']"
   ]
  },
  {
   "cell_type": "code",
   "execution_count": 22,
   "id": "8c2d730f",
   "metadata": {},
   "outputs": [],
   "source": [
    "def load(batch_size):\n",
    "    return (\n",
    "        make_generator(trainNums, batch_size, len(genre),genre),\n",
    "        make_generator(testNums, batch_size, len(genre),genre),\n",
    "    )"
   ]
  },
  {
   "cell_type": "code",
   "execution_count": 1,
   "id": "a7d96f9b",
   "metadata": {},
   "outputs": [],
   "source": [
    "# # Testing code to validate that the logic in generating batches is working properly and quickly\n",
    "# train_gen, valid_gen = load(2)\n",
    "# t0 = time.time()\n",
    "# for i, batch in enumerate(train_gen(), start=1):\n",
    "#     try: \n",
    "#         a, b = batch\n",
    "#         print(\"time \", str(time.time() - t0))\n",
    "#         if i == 900:\n",
    "#             break\n",
    "#         t0 = time.time()\n",
    "#     except e:\n",
    "#         pass"
   ]
  },
  {
   "cell_type": "code",
   "execution_count": 27,
   "id": "c53cfad6",
   "metadata": {},
   "outputs": [
    {
     "data": {
      "text/plain": [
       "False"
      ]
     },
     "execution_count": 27,
     "metadata": {},
     "output_type": "execute_result"
    }
   ],
   "source": [
    "'14980.jpg' in os.listdir('/home/ec2-user/SageMaker/wikiart-portrait/0')"
   ]
  },
  {
   "cell_type": "code",
   "execution_count": 25,
   "id": "50179cad",
   "metadata": {},
   "outputs": [
    {
     "data": {
      "text/plain": [
       "14980"
      ]
     },
     "execution_count": 25,
     "metadata": {},
     "output_type": "execute_result"
    }
   ],
   "source": [
    "len( os.listdir('/home/ec2-user/SageMaker/wikiart-portrait/0'))"
   ]
  },
  {
   "cell_type": "code",
   "execution_count": null,
   "id": "6bca0417",
   "metadata": {},
   "outputs": [],
   "source": []
  },
  {
   "cell_type": "code",
   "execution_count": 6,
   "id": "e7f9e508",
   "metadata": {},
   "outputs": [],
   "source": [
    "import os\n",
    "os.getcwd()\n",
    "collection = \"/home/ec2-user/SageMaker/genre-224/portraits\"\n",
    "for i, filename in enumerate(os.listdir(collection)):\n",
    "    os.rename(str(collection)+ '/' + filename, str(collection)+ '/' + str(i) + \".jpg\")"
   ]
  },
  {
   "cell_type": "code",
   "execution_count": 7,
   "id": "7400e4e0",
   "metadata": {},
   "outputs": [],
   "source": [
    "lst = []\n",
    "directory = os.listdir(collection)\n",
    "for i in range(len(os.listdir(collection))):\n",
    "    num = int(directory[i].split('.')[0])\n",
    "#     print(num)\n",
    "    lst.append(num)"
   ]
  },
  {
   "cell_type": "code",
   "execution_count": 8,
   "id": "22b5afc9",
   "metadata": {},
   "outputs": [],
   "source": [
    "lst.sort()"
   ]
  },
  {
   "cell_type": "code",
   "execution_count": 9,
   "id": "4236fa54",
   "metadata": {},
   "outputs": [],
   "source": [
    "import shutil\n",
    "# shutil.rmtree(collection)"
   ]
  },
  {
   "cell_type": "code",
   "execution_count": 10,
   "id": "6cf0466e",
   "metadata": {},
   "outputs": [
    {
     "data": {
      "text/plain": [
       "14988"
      ]
     },
     "execution_count": 10,
     "metadata": {},
     "output_type": "execute_result"
    }
   ],
   "source": [
    "len(lst)"
   ]
  },
  {
   "cell_type": "code",
   "execution_count": null,
   "id": "f2071ba0",
   "metadata": {},
   "outputs": [],
   "source": []
  }
 ],
 "metadata": {
  "kernelspec": {
   "display_name": "conda_amazonei_tensorflow2_p36",
   "language": "python",
   "name": "conda_amazonei_tensorflow2_p36"
  },
  "language_info": {
   "codemirror_mode": {
    "name": "ipython",
    "version": 3
   },
   "file_extension": ".py",
   "mimetype": "text/x-python",
   "name": "python",
   "nbconvert_exporter": "python",
   "pygments_lexer": "ipython3",
   "version": "3.6.13"
  }
 },
 "nbformat": 4,
 "nbformat_minor": 5
}
