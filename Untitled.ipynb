{
 "cells": [
  {
   "cell_type": "code",
   "execution_count": null,
   "id": "ab4ca52b",
   "metadata": {},
   "outputs": [],
   "source": [
    "# Source path \n",
    "src = 'C:/Users / Rajnish / Desktop / GeeksforGeeks / source'\n",
    "   \n",
    "# Destination path \n",
    "dest = 'C:/Users / Rajnish / Desktop / GeeksforGeeks / destination'\n",
    "   \n",
    "# Copy the content of \n",
    "# source to destination \n",
    "destination = shutil.copytree(src, dest) \n",
    "   \n",
    "# List files and directories \n",
    "# in \"C:/Users / Rajnish / Desktop / GeeksforGeeks\" \n",
    "print(\"After copying file:\") \n",
    "print(os.listdir(path)) \n",
    "   \n",
    "# Print path of newly \n",
    "# created file \n",
    "print(\"Destination path:\", destination)"
   ]
  },
  {
   "cell_type": "code",
   "execution_count": 1,
   "id": "9e778885",
   "metadata": {},
   "outputs": [],
   "source": [
    "import os\n",
    "import shutil"
   ]
  },
  {
   "cell_type": "code",
   "execution_count": null,
   "id": "c3e89715",
   "metadata": {},
   "outputs": [],
   "source": []
  }
 ],
 "metadata": {
  "kernelspec": {
   "display_name": "conda_amazonei_tensorflow_p36",
   "language": "python",
   "name": "conda_amazonei_tensorflow_p36"
  },
  "language_info": {
   "codemirror_mode": {
    "name": "ipython",
    "version": 3
   },
   "file_extension": ".py",
   "mimetype": "text/x-python",
   "name": "python",
   "nbconvert_exporter": "python",
   "pygments_lexer": "ipython3",
   "version": "3.6.10"
  }
 },
 "nbformat": 4,
 "nbformat_minor": 5
}
